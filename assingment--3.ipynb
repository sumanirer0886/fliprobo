{
 "cells": [
  {
   "cell_type": "code",
   "execution_count": null,
   "id": "ca41297a",
   "metadata": {},
   "outputs": [],
   "source": []
  },
  {
   "cell_type": "code",
   "execution_count": null,
   "id": "855d904b",
   "metadata": {},
   "outputs": [],
   "source": [
    "!pip install selenium"
   ]
  },
  {
   "cell_type": "code",
   "execution_count": null,
   "id": "1fd184fd",
   "metadata": {},
   "outputs": [],
   "source": [
    "import pandas as pd\n",
    "import os\n",
    "from time import sleep\n",
    "from selenium import webdriver\n",
    "from selenium.webdriver.chrome.options import Options\n",
    "from selenium.webdriver.common.keys import Keys\n",
    "from selenium.webdriver.support import expected_conditions as EC\n",
    "from selenium.webdriver.support.ui import WebDriverWait\n",
    "from selenium.webdriver.support.ui import Select\n",
    "\n",
    "from selenium.common.exceptions import TimeoutException\n",
    "from selenium.common.exceptions import StaleElementReferenceException\n",
    "from selenium.common.exceptions import NoSuchElementException\n",
    "from selenium.webdriver.common.by import By\n",
    "import urllib\n",
    "import pathlib\n",
    "import datetime"
   ]
  },
  {
   "cell_type": "code",
   "execution_count": null,
   "id": "cff72d7d",
   "metadata": {},
   "outputs": [],
   "source": [
    "CHROMEDRIVER_PATH = './chromedriver'\n",
    "WINDOW_SIZE = \"1920,1080\""
   ]
  },
  {
   "cell_type": "code",
   "execution_count": null,
   "id": "fd4417a9",
   "metadata": {},
   "outputs": [],
   "source": [
    "# Comman function for init driver\n",
    "def init_driver(url):\n",
    "    chrome_options = webdriver.ChromeOptions()\n",
    "    chrome_options.add_argument('--disable-blink-features=AutomationControlled')\n",
    "    chrome_options.add_experimental_option(\"excludeSwitches\", [\"enable-automation\"])\n",
    "    chrome_options.add_experimental_option('useAutomationExtension', False)\n",
    "    \n",
    "    pathlib.Path('download').mkdir(parents=True, exist_ok=True) \n",
    "    \n",
    "    preferences = {\n",
    "        \"download.default_directory\": os.getcwd() + os.path.sep + '/download',\n",
    "    }\n",
    "\n",
    "    chrome_options.add_experimental_option('prefs', preferences)\n",
    "\n",
    "    driver = webdriver.Chrome(executable_path=CHROMEDRIVER_PATH,options=chrome_options)\n",
    "    driver.maximize_window()\n",
    "    driver.get(url)\n",
    "    return driver"
   ]
  },
  {
   "cell_type": "code",
   "execution_count": null,
   "id": "51194b9b",
   "metadata": {},
   "outputs": [],
   "source": [
    "def wait_for_page_load(xpath_url):\n",
    "    try:\n",
    "        element_present = EC.presence_of_element_located((By.XPATH, xpath_url))\n",
    "        WebDriverWait(driver, 5).until(element_present)\n",
    "    except TimeoutException:\n",
    "        pass\n",
    "    except NoSuchElementException:\n",
    "        print(\"Element not found\")"
   ]
  },
  {
   "cell_type": "code",
   "execution_count": null,
   "id": "f38f67fc",
   "metadata": {},
   "outputs": [],
   "source": []
  },
  {
   "cell_type": "code",
   "execution_count": null,
   "id": "9a331e40",
   "metadata": {},
   "outputs": [],
   "source": [
    "#1. Write a python program which searches all the product under a particular product from www.amazon.in. The product to be searched will be taken as input from user. For e.g. If user input is ‘guitar’. Then search \n",
    "    #for guitars"
   ]
  },
  {
   "cell_type": "code",
   "execution_count": null,
   "id": "f4b212b9",
   "metadata": {},
   "outputs": [],
   "source": [
    "driver=webdriver.Chrome(r\"C:\\Users\\LENOVO\\Desktop\\Data\\chromedriver.exe\")"
   ]
  },
  {
   "cell_type": "code",
   "execution_count": null,
   "id": "31c96b26",
   "metadata": {},
   "outputs": [],
   "source": [
    "product_name = input('guitar')"
   ]
  },
  {
   "cell_type": "code",
   "execution_count": null,
   "id": "d4f0594a",
   "metadata": {},
   "outputs": [],
   "source": [
    "driver = init_driver('https://www.amazon.in/')"
   ]
  },
  {
   "cell_type": "code",
   "execution_count": null,
   "id": "780e64ca",
   "metadata": {},
   "outputs": [],
   "source": [
    "# add data to keyword field \n",
    "driver.find_element_by_xpath('//input[@id=\"twotabsearchtextbox\"]').send_keys(product_name)"
   ]
  },
  {
   "cell_type": "code",
   "execution_count": null,
   "id": "246b5c5b",
   "metadata": {},
   "outputs": [],
   "source": [
    "# hit search \n",
    "driver.find_element_by_xpath('//input[@id=\"nav-search-submit-button\"]').click()"
   ]
  },
  {
   "cell_type": "code",
   "execution_count": null,
   "id": "c1de260e",
   "metadata": {},
   "outputs": [],
   "source": []
  },
  {
   "cell_type": "code",
   "execution_count": null,
   "id": "e77ece76",
   "metadata": {},
   "outputs": [],
   "source": []
  },
  {
   "cell_type": "code",
   "execution_count": null,
   "id": "0b83dd7a",
   "metadata": {},
   "outputs": [],
   "source": [
    "#2. In the above question, now scrape the following details of each product listed in first 3 pages of your search results and save it in a data frame and csv. In case if any product has less than 3 pages in search \n",
    "    #results then scrape all the products available under that product name. Details to be scraped are: \"Brand Name\", \"Name of the Product\", \"Price\", \"Return/Exchange\", \"Expected Delivery\", \"Availability\" and “Product URL”. In case, if any of the details are missing for any of the product then replace it by “-“.\n"
   ]
  },
  {
   "cell_type": "code",
   "execution_count": null,
   "id": "fbe94458",
   "metadata": {},
   "outputs": [],
   "source": []
  },
  {
   "cell_type": "code",
   "execution_count": null,
   "id": "966ddcde",
   "metadata": {},
   "outputs": [],
   "source": []
  },
  {
   "cell_type": "code",
   "execution_count": null,
   "id": "ea367bf6",
   "metadata": {},
   "outputs": [],
   "source": [
    "page_count = 0 \n",
    "all_urls = []   \n",
    "while page_count < 3:\n",
    "    sleep(5)\n",
    "    # wait for page load\n",
    "    wait_for_page_load('//div[@class=\"a-section a-spacing-medium\"]')    \n",
    "\n",
    "    # finding all boxes \n",
    "    all_box = driver.find_elements_by_xpath('//div[@class=\"a-section a-spacing-medium\"]')\n",
    "\n",
    "    \n",
    "    # Ittrating over box to find details\n",
    "    for one_box in all_box:\n",
    "\n",
    "        try:\n",
    "            url = one_box.find_element_by_xpath('.//h2/a').get_attribute('href')\n",
    "            all_urls.append(url)\n",
    "        except:\n",
    "            pass\n",
    "\n",
    "        \n",
    "    # Go to next page\n",
    "    driver.find_element_by_xpath('//body').send_keys(Keys.CONTROL + Keys.PAGE_DOWN)\n",
    "    try:\n",
    "        driver.find_element_by_xpath('//li[@class=\"a-last\"]').click()\n",
    "    except:\n",
    "        driver.find_element_by_xpath('//a[@class=\"s-pagination-item s-pagination-next s-pagination-button s-pagination-separator\"]').click()\n",
    "    page_count += 1"
   ]
  },
  {
   "cell_type": "code",
   "execution_count": null,
   "id": "d2137037",
   "metadata": {},
   "outputs": [],
   "source": [
    "final_data = []\n",
    "for one_url in all_urls:\n",
    "    driver.get(one_url)\n",
    "    \n",
    "    try:\n",
    "        sleep(5)\n",
    "        wait_for_page_load('//span[@id=\"priceblock_ourprice\"]')    \n",
    "\n",
    "\n",
    "        try:\n",
    "            brand_name = driver.find_element_by_xpath('//div[@id=\"productOverview_feature_div\"]//span[@class=\"a-size-base\"]').tex\n",
    "        except:\n",
    "            brand_name = driver.find_element_by_xpath('//a[@id=\"bylineInfo\"]').text\n",
    "\n",
    "        product_name = driver.find_element_by_xpath('//h1[@id=\"title\"]').text\n",
    "        try:\n",
    "            rating = driver.find_element_by_xpath('//span[@id=\"acrPopover\"]//span//span').get_attribute('innerHTML')\n",
    "            ratings_count = driver.find_element_by_xpath('//span[@id=\"acrCustomerReviewText\"]').text\n",
    "        except:\n",
    "            rating = '-'\n",
    "            ratings_count = '-'\n",
    "\n",
    "        try:\n",
    "            price = driver.find_element_by_xpath('//span[@id=\"priceblock_ourprice\"]').text\n",
    "        except:\n",
    "            try:\n",
    "                price = driver.find_element_by_xpath('//span[@id=\"priceblock_dealprice\"]').text\n",
    "            except:\n",
    "                price = '-'\n",
    "\n",
    "\n",
    "        return_exchange = driver.find_element_by_xpath('//div[@id=\"RETURNS_POLICY\"]').text\n",
    "        try:\n",
    "            expected_delivery = driver.find_element_by_xpath('//div[@id=\"ddmDeliveryMessage\"]/b').text\n",
    "        except:\n",
    "            expected_delivery = '-'\n",
    "        availability = driver.find_element_by_xpath('//div[@id=\"availability_feature_div\"]').text\n",
    "        other_details = driver.find_element_by_xpath('//div[@id=\"feature-bullets\"]').text\n",
    "        product_url = one_url\n",
    "\n",
    "        final_data.append({\n",
    "            'brand_name': brand_name,\n",
    "            'product_name': product_name,\n",
    "            'rating': rating,\n",
    "            'ratings_count': ratings_count,\n",
    "            'price': price,\n",
    "            'return_exchange': return_exchange,\n",
    "            'expected_delivery': expected_delivery,\n",
    "            'availability': availability,\n",
    "            'other_details': other_details,\n",
    "            'product_url': product_url,\n",
    "        })\n",
    "    except:\n",
    "        print('Got error in: ',one_url)\n",
    "        \n",
    "data = pd.DataFrame(final_data)\n",
    "data"
   ]
  },
  {
   "cell_type": "code",
   "execution_count": null,
   "id": "cd4220ea",
   "metadata": {},
   "outputs": [],
   "source": []
  },
  {
   "cell_type": "code",
   "execution_count": null,
   "id": "b2dcc278",
   "metadata": {},
   "outputs": [],
   "source": []
  },
  {
   "cell_type": "code",
   "execution_count": null,
   "id": "c3caeced",
   "metadata": {},
   "outputs": [],
   "source": [
    "#3. Write a python program to access the search bar and search button on images.google.com and scrape 10images each for keywords ‘fruits’, ‘cars’ and ‘Machine Learning’, ‘Guitar’, ‘Cakes’."
   ]
  },
  {
   "cell_type": "code",
   "execution_count": null,
   "id": "fc2bbe39",
   "metadata": {},
   "outputs": [],
   "source": [
    "keywords = ['fruits', 'cars', 'Machine Learning']"
   ]
  },
  {
   "cell_type": "code",
   "execution_count": null,
   "id": "e780ca3b",
   "metadata": {},
   "outputs": [],
   "source": [
    "def download_image(all_urls):\n",
    "    for url in all_urls:\n",
    "        driver.get(url)\n",
    "        driver.execute_script(f'a = document.createElement(\"a\");a.setAttribute(\"download\",\"\");a.href = \"{url}\";document.body.appendChild(a);a.click();')"
   ]
  },
  {
   "cell_type": "code",
   "execution_count": null,
   "id": "01e24ed6",
   "metadata": {},
   "outputs": [],
   "source": [
    "for key in keywords:\n",
    "    driver.get('https://images.google.com/')\n",
    "    driver.find_element_by_xpath('//form//input').send_keys(key)\n",
    "    driver.find_element_by_xpath('//form//input').send_keys(Keys.ENTER)\n",
    "    \n",
    "    \n",
    "    all_src_list = []\n",
    "    \n",
    "    while True:\n",
    "        all_image_box = driver.find_elements_by_xpath('//div[@id=\"islmp\"]//div[@jsname=\"DeysSe\"]/img')\n",
    "        \n",
    "        for one_box in all_image_box:\n",
    "            try:\n",
    "                one_box.click()\n",
    "                sleep(1)\n",
    "                src = driver.find_element_by_xpath('//div[@id=\"islsp\"]//a/img[contains(@src,\"https://\")]').get_attribute('src')\n",
    "                all_src_list.append(src)\n",
    "            except:\n",
    "                pass\n",
    "\n",
    "        driver.find_element_by_xpath('//body').send_keys(Keys.CONTROL + Keys.PAGE_DOWN)\n",
    "        if len(all_src_list) > 100:\n",
    "            break\n",
    "        \n",
    "    download_image(all_src_list)"
   ]
  },
  {
   "cell_type": "code",
   "execution_count": null,
   "id": "e32b7d06",
   "metadata": {},
   "outputs": [],
   "source": []
  },
  {
   "cell_type": "code",
   "execution_count": null,
   "id": "d9e966db",
   "metadata": {},
   "outputs": [],
   "source": [
    "#4. Write a python program to search for a smartphone(e.g.: Oneplus Nord, pixel 4A, etc.) onwww.flipkart.com and scrape following details for all the search results displayed on 1st page. Details to be \n",
    "    #scraped: “Brand Name”, “Smartphone name”, “Colour”, “RAM”, “Storage(ROM)”, “Primary Camera”, “Secondary Camera”, “Display Size”, “Battery Capacity”, “Price”, “Product URL”. Incase if any of the \n",
    "    #details is missing then replace it by “- “. Save your results in a dataframe and CSV"
   ]
  },
  {
   "cell_type": "code",
   "execution_count": null,
   "id": "454d7e0b",
   "metadata": {},
   "outputs": [],
   "source": [
    "driver.get('https://www.flipkart.com/')"
   ]
  },
  {
   "cell_type": "code",
   "execution_count": null,
   "id": "c32b491d",
   "metadata": {},
   "outputs": [],
   "source": [
    "# close login popup \n",
    "try:\n",
    "    wait_for_page_load('//button[text()=\"✕\"]')\n",
    "    driver.find_element_by_xpath('//button[text()=\"✕\"]').click()\n",
    "except:\n",
    "    pass"
   ]
  },
  {
   "cell_type": "code",
   "execution_count": null,
   "id": "1c6233cb",
   "metadata": {},
   "outputs": [],
   "source": [
    "driver.find_element_by_xpath('//input[@name=\"q\"]').send_keys('pixel 4A')\n",
    "driver.find_element_by_xpath('//button[@type=\"submit\"]').click()"
   ]
  },
  {
   "cell_type": "code",
   "execution_count": null,
   "id": "9d205755",
   "metadata": {},
   "outputs": [],
   "source": [
    "wait_for_page_load('//div[contains(@data-id,\"MOB\")]')    \n",
    "\n",
    "# finding top all boxes \n",
    "all_box = driver.find_elements_by_xpath('//div[contains(@data-id,\"MOB\")]')"
   ]
  },
  {
   "cell_type": "code",
   "execution_count": null,
   "id": "df001e9d",
   "metadata": {},
   "outputs": [],
   "source": [
    "all_urls = [] \n",
    "for one_box in all_box:\n",
    "    all_urls.append(one_box.find_element_by_xpath('.//a').get_attribute('href'))"
   ]
  },
  {
   "cell_type": "code",
   "execution_count": null,
   "id": "2b29679c",
   "metadata": {},
   "outputs": [],
   "source": [
    "final_data = []\n",
    "for one_url in all_urls:\n",
    "    driver.get(one_url)\n",
    "    \n",
    "    try:\n",
    "        sleep(5)\n",
    "        \n",
    "        driver.find_element_by_xpath('//button[@class=\"_2KpZ6l _1FH0tX\"]').click()\n",
    "\n",
    "        wait_for_page_load('//h1')    \n",
    "\n",
    "\n",
    "        brand_name = driver.find_element_by_xpath('//h1').text\n",
    "        smartphone_name = driver.find_element_by_xpath('//h1').text\n",
    "        colour = driver.find_element_by_xpath('//td[text()=\"Color\"]/parent::*//li').text\n",
    "        RAM = driver.find_element_by_xpath('//td[text()=\"RAM\"]/parent::*//li').text\n",
    "        storage_ROM = driver.find_element_by_xpath('//td[text()=\"Internal Storage\"]/parent::*//li').text\n",
    "        primary_camera = driver.find_element_by_xpath('//td[text()=\"Primary Camera\"]/parent::*//li').text\n",
    "\n",
    "        try:    \n",
    "            secondary_camera = driver.find_element_by_xpath('//td[text()=\"Secondary Camera\"]/parent::*//li').text\n",
    "        except:\n",
    "            secondary_camera = '-'\n",
    "\n",
    "        try:    \n",
    "            display = driver.find_element_by_xpath('//td[text()=\"Display Type\"]/parent::*//li').text\n",
    "        except:\n",
    "            display = '-'\n",
    "\n",
    "        display_size = driver.find_element_by_xpath('//td[text()=\"Display Size\"]/parent::*//li').text\n",
    "\n",
    "        resolution = driver.find_element_by_xpath('//td[text()=\"Resolution\"]/parent::*//li').text\n",
    "\n",
    "        try:\n",
    "            processor = driver.find_element_by_xpath('//td[text()=\"Processor Type\"]/parent::*//li').text\n",
    "        except:\n",
    "            processor = '-'\n",
    "\n",
    "        try:\n",
    "            processor_cores = driver.find_element_by_xpath('//td[text()=\"Processor Core\"]/parent::*//li').text\n",
    "        except:\n",
    "            processor = '-'\n",
    "\n",
    "        battery_capacity = driver.find_element_by_xpath('//td[text()=\"Battery Capacity\"]/parent::*//li').text\n",
    "\n",
    "        price = driver.find_element_by_xpath('//div[@class=\"CEmiEU\"]').text\n",
    "        product_url = one_url\n",
    "\n",
    "\n",
    "\n",
    "\n",
    "\n",
    "\n",
    "        final_data.append({\n",
    "            'brand_name':brand_name,\n",
    "            'smartphone_name':smartphone_name,\n",
    "            'colour':colour,\n",
    "            'RAM':RAM,\n",
    "            'storage_ROM':storage_ROM,\n",
    "            'primary_camera':primary_camera,\n",
    "            'secondary_camera':secondary_camera,\n",
    "            'display_size':display_size,\n",
    "            'display':display,\n",
    "            'resolution':resolution,\n",
    "            'processor':processor,\n",
    "            'processor_cores':processor_cores,\n",
    "            'battery_capacity':battery_capacity,\n",
    "            'price':price,\n",
    "            'product_url':product_url,\n",
    "        })\n",
    "        \n",
    "    except:\n",
    "        print('Got error in: ',one_url)\n",
    "        \n",
    "data = pd.DataFrame(final_data)\n",
    "data"
   ]
  },
  {
   "cell_type": "code",
   "execution_count": null,
   "id": "6d089218",
   "metadata": {},
   "outputs": [],
   "source": []
  },
  {
   "cell_type": "code",
   "execution_count": null,
   "id": "9e268bab",
   "metadata": {},
   "outputs": [],
   "source": [
    "#5. Write a program to scrap geospatial coordinates (latitude, longitude) of a city searched on googlemaps.\n"
   ]
  },
  {
   "cell_type": "code",
   "execution_count": null,
   "id": "39845313",
   "metadata": {},
   "outputs": [],
   "source": [
    "driver.get('https://www.google.com/maps/')"
   ]
  },
  {
   "cell_type": "code",
   "execution_count": null,
   "id": "69d5402c",
   "metadata": {},
   "outputs": [],
   "source": [
    "city = input(' banka')"
   ]
  },
  {
   "cell_type": "code",
   "execution_count": null,
   "id": "fa1c3635",
   "metadata": {},
   "outputs": [],
   "source": [
    "driver.find_element_by_xpath('//input[@id=\"searchboxinput\"]').send_keys(city)\n",
    "driver.find_element_by_xpath('//input[@id=\"searchboxinput\"]').send_keys(Keys.CONTROL + Keys.ENTER)"
   ]
  },
  {
   "cell_type": "code",
   "execution_count": null,
   "id": "3c2d965b",
   "metadata": {},
   "outputs": [],
   "source": [
    "current_url = driver.current_url"
   ]
  },
  {
   "cell_type": "code",
   "execution_count": null,
   "id": "e6e1ff5b",
   "metadata": {},
   "outputs": [],
   "source": [
    "latitude, longitude, _ = current_url.split('@')[1].split('/')[0].split(',')"
   ]
  },
  {
   "cell_type": "code",
   "execution_count": null,
   "id": "419558e3",
   "metadata": {},
   "outputs": [],
   "source": [
    "print('latitude: ',latitude)\n",
    "print('longitude: ',longitude)"
   ]
  },
  {
   "cell_type": "code",
   "execution_count": null,
   "id": "f130e682",
   "metadata": {},
   "outputs": [],
   "source": []
  },
  {
   "cell_type": "code",
   "execution_count": null,
   "id": "9fa7c658",
   "metadata": {},
   "outputs": [],
   "source": [
    "    #6. Write a program to scrap details of all the funding deals for second quarter (i.e Jan 21 – March 21) from trak.in."
   ]
  },
  {
   "cell_type": "code",
   "execution_count": null,
   "id": "4a076616",
   "metadata": {},
   "outputs": [],
   "source": [
    "driver.get('https://trak.in/india-startup-funding-investment-2015/')"
   ]
  },
  {
   "cell_type": "code",
   "execution_count": null,
   "id": "3cd12ce2",
   "metadata": {},
   "outputs": [],
   "source": [
    "all_page_length = driver.find_elements_by_xpath('//div[@class=\"dataTables_length\"]//select')"
   ]
  },
  {
   "cell_type": "code",
   "execution_count": null,
   "id": "9536a6aa",
   "metadata": {},
   "outputs": [],
   "source": [
    "for one_page_length in all_page_length:\n",
    "    select = Select(one_page_length)\n",
    "    select.select_by_visible_text('100')"
   ]
  },
  {
   "cell_type": "code",
   "execution_count": null,
   "id": "33f6cfed",
   "metadata": {},
   "outputs": [],
   "source": [
    "all_table = pd.read_html(driver.page_source)"
   ]
  },
  {
   "cell_type": "code",
   "execution_count": null,
   "id": "7848faa8",
   "metadata": {},
   "outputs": [],
   "source": [
    "df = pd.concat(all_table)\n",
    "df"
   ]
  },
  {
   "cell_type": "code",
   "execution_count": null,
   "id": "20d8f22f",
   "metadata": {},
   "outputs": [],
   "source": [
    "df['Date (dd/mm/yyyy)'] = pd.to_datetime(df['Date (dd/mm/yyyy)'],errors='coerce')"
   ]
  },
  {
   "cell_type": "code",
   "execution_count": null,
   "id": "97bd4c3f",
   "metadata": {},
   "outputs": [],
   "source": [
    "df.dtypes"
   ]
  },
  {
   "cell_type": "code",
   "execution_count": null,
   "id": "5f51c03a",
   "metadata": {},
   "outputs": [],
   "source": [
    "df"
   ]
  },
  {
   "cell_type": "code",
   "execution_count": null,
   "id": "9f63f8d3",
   "metadata": {},
   "outputs": [],
   "source": [
    "start_time = datetime.datetime(2020, 7, 1)\n",
    "end_time = datetime.datetime(2020, 9, 30)"
   ]
  },
  {
   "cell_type": "code",
   "execution_count": null,
   "id": "b366fa6c",
   "metadata": {},
   "outputs": [],
   "source": [
    "df = df[(start_time < df['Date (dd/mm/yyyy)']) & (df['Date (dd/mm/yyyy)'] < end_time )].sort_values('Date (dd/mm/yyyy)')\n",
    "df"
   ]
  },
  {
   "cell_type": "code",
   "execution_count": null,
   "id": "19c0c562",
   "metadata": {},
   "outputs": [],
   "source": [
    "df.reset_index()"
   ]
  },
  {
   "cell_type": "code",
   "execution_count": null,
   "id": "136aae34",
   "metadata": {},
   "outputs": [],
   "source": []
  },
  {
   "cell_type": "code",
   "execution_count": null,
   "id": "c9c502c0",
   "metadata": {},
   "outputs": [],
   "source": []
  },
  {
   "cell_type": "code",
   "execution_count": null,
   "id": "ae7d7881",
   "metadata": {},
   "outputs": [],
   "source": [
    "#7. Write a program to scrap all the available details of best gaming laptops from digit.in"
   ]
  },
  {
   "cell_type": "code",
   "execution_count": null,
   "id": "4aea2425",
   "metadata": {},
   "outputs": [],
   "source": [
    "driver.get('https://www.digit.in/top-products/best-gaming-laptops-40.html')"
   ]
  },
  {
   "cell_type": "code",
   "execution_count": null,
   "id": "30ad038c",
   "metadata": {},
   "outputs": [],
   "source": [
    "all_laptop_title = driver.find_elements_by_xpath('//div[@class=\"TopNumbeHeading sticky-footer\"]/a')"
   ]
  },
  {
   "cell_type": "code",
   "execution_count": null,
   "id": "d075a32a",
   "metadata": {},
   "outputs": [],
   "source": [
    "all_name = []\n",
    "for one_title in all_laptop_title:\n",
    "    all_name.append(one_title.text)\n",
    "    \n",
    "name_series = pd.Series(all_name)\n",
    "name_series"
   ]
  },
  {
   "cell_type": "code",
   "execution_count": null,
   "id": "666782f2",
   "metadata": {},
   "outputs": [],
   "source": [
    "all_specs = driver.find_elements_by_xpath('//div[@class=\"Spcs-details\"]')"
   ]
  },
  {
   "cell_type": "code",
   "execution_count": null,
   "id": "e3d1f92b",
   "metadata": {},
   "outputs": [],
   "source": [
    "all_spec_list = []\n",
    "for one_spec in all_specs:\n",
    "\n",
    "    os_name = one_spec.find_element_by_xpath('.//td[text()=\"OS\"]/parent::*/td[3]').text\n",
    "    display = one_spec.find_element_by_xpath('.//td[text()=\"Display\"]/parent::*/td[3]').text\n",
    "    processor = one_spec.find_element_by_xpath('.//td[text()=\"Processor\"]/parent::*/td[3]').text\n",
    "    memory = one_spec.find_element_by_xpath('.//td[text()=\"Memory\"]/parent::*/td[3]').text\n",
    "    weight = one_spec.find_element_by_xpath('.//td[text()=\"Weight\"]/parent::*/td[3]').text\n",
    "    dimension = one_spec.find_element_by_xpath('.//td[text()=\"Dimension\"]/parent::*/td[3]').text\n",
    "    graphics_processor = one_spec.find_element_by_xpath('.//td[text()=\"Graphics Processor\"]/parent::*/td[3]').text\n",
    "    \n",
    "    all_spec_list.append({\n",
    "        'os' : os_name,\n",
    "        'display' : display,\n",
    "        'processor' : processor,\n",
    "        'memory' : memory,\n",
    "        'weight' : weight,\n",
    "        'dimension' : dimension,\n",
    "        'graphics_processor' : graphics_processor,\n",
    "    })\n",
    "    \n",
    "df = pd.DataFrame(all_spec_list)\n",
    "df"
   ]
  },
  {
   "cell_type": "code",
   "execution_count": null,
   "id": "4bbb2059",
   "metadata": {},
   "outputs": [],
   "source": [
    "df['name'] = name_series\n",
    "df"
   ]
  },
  {
   "cell_type": "code",
   "execution_count": null,
   "id": "d3bd1679",
   "metadata": {},
   "outputs": [],
   "source": []
  },
  {
   "cell_type": "code",
   "execution_count": null,
   "id": "90e5ef8c",
   "metadata": {},
   "outputs": [],
   "source": [
    "#8. Write a python program to scrape the details for all billionaires from www.forbes.com. Details to be scrapped: “Rank”, “Name”, “Net worth”, “Age”, “Citizenship”, “Source”, “Industry”."
   ]
  },
  {
   "cell_type": "code",
   "execution_count": null,
   "id": "a736fdf8",
   "metadata": {},
   "outputs": [],
   "source": [
    "driver.get('https://www.forbes.com/billionaires/')"
   ]
  },
  {
   "cell_type": "code",
   "execution_count": null,
   "id": "bb351a90",
   "metadata": {},
   "outputs": [],
   "source": [
    "all_list = []\n",
    "\n",
    "while True:\n",
    "\n",
    "    all_boxes = driver.find_elements_by_xpath('//div[@class=\"table-body\"]/div/div[contains(@class,\"table-row \")]')\n",
    "    for one_box in all_boxes:\n",
    "\n",
    "        rank = one_box.find_element_by_xpath('.//div[@class=\"rank\"]').text\n",
    "        name = one_box.find_element_by_xpath('.//div[@class=\"personName\"]').text\n",
    "        net_worth = one_box.find_element_by_xpath('.//div[@class=\"netWorth\"]').text\n",
    "        age = one_box.find_element_by_xpath('.//div[@class=\"age\"]').text\n",
    "        citizenship = one_box.find_element_by_xpath('.//div[@class=\"countryOfCitizenship\"]').text\n",
    "        source = one_box.find_element_by_xpath('.//div[@class=\"source\"]').text\n",
    "        industry = one_box.find_element_by_xpath('.//div[@class=\"category\"]').text\n",
    "\n",
    "        all_list.append({\n",
    "            'rank': rank,\n",
    "            'name': name,\n",
    "            'net_worth': net_worth,\n",
    "            'age': age,\n",
    "            'citizenship': citizenship,\n",
    "            'source': source,\n",
    "            'industry': industry,\n",
    "        })\n",
    "        \n",
    "          \n",
    "    if len(driver.find_elements_by_xpath('//button[contains(@class,\"pagination-btn--next pagination-btn--disabled\")]')) == 0:\n",
    "        # we have more pages go to next\n",
    "        driver.find_element_by_xpath('//button[contains(@class,\"pagination-btn--next\")]').click()\n",
    "    else:\n",
    "        # we are at last page\n",
    "        break\n",
    "        \n",
    "        \n",
    "df = pd.DataFrame(all_list)\n",
    "df"
   ]
  },
  {
   "cell_type": "code",
   "execution_count": null,
   "id": "eb1bc1bc",
   "metadata": {},
   "outputs": [],
   "source": [
    "#9. Write a program to extract at least 500 Comments, Comment upvote and time when comment was posted from any YouTube Video"
   ]
  },
  {
   "cell_type": "code",
   "execution_count": null,
   "id": "ece1108a",
   "metadata": {},
   "outputs": [],
   "source": [
    "driver.get('https://www.youtube.com/watch?v=kTJczUoc26U')"
   ]
  },
  {
   "cell_type": "code",
   "execution_count": null,
   "id": "1db04775",
   "metadata": {},
   "outputs": [],
   "source": [
    "wait_for_page_load('//ytd-comment-thread-renderer')\n",
    "\n",
    "# Loading all comments\n",
    "i = 1 \n",
    "while True:\n",
    "    i += 500\n",
    "    driver.execute_script(f\"window.scrollTo(0, {i});\")\n",
    "        \n",
    "    all_box = driver.find_elements_by_xpath('//ytd-comment-thread-renderer')\n",
    "    \n",
    "    sleep(1)\n",
    "    \n",
    "    if len(all_box) > 500:\n",
    "        break"
   ]
  },
  {
   "cell_type": "code",
   "execution_count": null,
   "id": "95b2234a",
   "metadata": {},
   "outputs": [],
   "source": [
    "all_list = []\n",
    "for one_box in all_box:\n",
    "    comment = one_box.find_element_by_xpath('.//ytd-expander[@id=\"expander\"]').text\n",
    "    upvote = one_box.find_element_by_xpath('.//span[@id=\"vote-count-middle\"]').text\n",
    "    time = one_box.find_element_by_xpath('.//div[@id=\"header-author\"]//yt-formatted-string/a').text\n",
    "    \n",
    "    all_list.append({\n",
    "        'comment' : comment,\n",
    "        'upvote' : upvote,\n",
    "        'time' : time\n",
    "    })\n",
    "    \n",
    "df = pd.DataFrame(all_list)\n",
    "df\n"
   ]
  },
  {
   "cell_type": "code",
   "execution_count": null,
   "id": "e21ace1a",
   "metadata": {},
   "outputs": [],
   "source": []
  },
  {
   "cell_type": "code",
   "execution_count": null,
   "id": "a79192fa",
   "metadata": {},
   "outputs": [],
   "source": [
    "#10. Write a python program to scrape a data for all available Hostels from https://www.hostelworld.com/ in “London” location. You have to scrape hostel name, distance from city centre, ratings, total reviews, \n",
    "    #overall reviews, privates from price, dorms from price, facilities and property description"
   ]
  },
  {
   "cell_type": "code",
   "execution_count": null,
   "id": "dd36a62e",
   "metadata": {},
   "outputs": [],
   "source": [
    "driver.get('https://www.hostelworld.com/s?q=London,%20England&country=England&city=London&type=city&id=3')"
   ]
  },
  {
   "cell_type": "code",
   "execution_count": null,
   "id": "1c04e6ba",
   "metadata": {},
   "outputs": [],
   "source": [
    "final_list = []\n",
    "page_urls = []\n",
    "\n",
    "\n",
    "while True:\n",
    "    sleep(5)\n",
    "    wait_for_page_load('//div[@class=\"property-card\" and @data-v-62f28bda=\"\"]')\n",
    "    all_boxs = driver.find_elements_by_xpath('//div[@class=\"property-card\" and @data-v-62f28bda=\"\"]')\n",
    "    for one_box in all_boxs:\n",
    "        hostel_name = one_box.find_element_by_xpath('.//h2/a').text\n",
    "        distance_from_city = one_box.find_element_by_xpath('.//a/span').text\n",
    "        try:\n",
    "            ratings = one_box.find_element_by_xpath('.//div[contains(@class,\"score\")]').text\n",
    "        except:\n",
    "            ratings = 'No rating'\n",
    "            \n",
    "        total_reviews = one_box.find_element_by_xpath('.//div[contains(@class,\"reviews\")]').text\n",
    "        overall_reviews = one_box.find_element_by_xpath('.//div[contains(@class,\"keyword\")]').text\n",
    "        privates_from_price = one_box.find_elements_by_xpath('.//div[contains(@class,\"prices-col\")]/a/div')[0].text\n",
    "        dorms_from_price  = one_box.find_elements_by_xpath('.//div[contains(@class,\"prices-col\")]/a/div')[1].text\n",
    "        facilities = one_box.find_element_by_xpath('.//div[contains(@class,\"facilities\")]').text.split('\\n')\n",
    "        \n",
    "        page_url = one_box.find_element_by_xpath('.//h2/a').get_attribute('href')\n",
    "        page_urls.append(page_url)\n",
    "\n",
    "        final_list.append({\n",
    "            'hostel_name' : hostel_name,\n",
    "            'distance_from_city' : distance_from_city,\n",
    "            'ratings' : ratings,\n",
    "            'total_reviews' : total_reviews,\n",
    "            'overall_reviews' : overall_reviews,\n",
    "            'privates_from_price' : privates_from_price,\n",
    "            'dorms_from_price' : dorms_from_price,\n",
    "            'facilities' : facilities,\n",
    "\n",
    "        })\n",
    "        \n",
    "        \n",
    "    if len(driver.find_elements_by_xpath('//div[contains(@class,\"pagination-next disabled\")]')) == 0:\n",
    "        # we have more pages go to next\n",
    "        driver.find_element_by_xpath('//div[contains(@class,\"pagination-next\")]').click()\n",
    "    else:\n",
    "        # we are at last page\n",
    "        break\n",
    "            \n",
    "\n",
    "df = pd.DataFrame(final_list)\n",
    "df"
   ]
  },
  {
   "cell_type": "code",
   "execution_count": null,
   "id": "4d2ac1e4",
   "metadata": {},
   "outputs": [],
   "source": [
    "all_desc = []\n",
    "for one_page in page_urls:\n",
    "    driver.get(one_page)\n",
    "    try:\n",
    "        description = driver.find_element_by_xpath('//div[@class=\"description-container\"]//div[contains(@class,\"content\")]').text\n",
    "    except:\n",
    "        description = ''\n",
    "        \n",
    "    all_desc.append(description)    \n",
    "df_desc = pd.Series(all_desc)\n",
    "df_desc"
   ]
  },
  {
   "cell_type": "code",
   "execution_count": null,
   "id": "0ecf8589",
   "metadata": {},
   "outputs": [],
   "source": [
    "df['description'] = df_desc\n",
    "df"
   ]
  },
  {
   "cell_type": "code",
   "execution_count": null,
   "id": "93ffb867",
   "metadata": {},
   "outputs": [],
   "source": []
  },
  {
   "cell_type": "code",
   "execution_count": null,
   "id": "f82baf03",
   "metadata": {},
   "outputs": [],
   "source": []
  },
  {
   "cell_type": "code",
   "execution_count": null,
   "id": "27c6c17f",
   "metadata": {},
   "outputs": [],
   "source": []
  },
  {
   "cell_type": "code",
   "execution_count": null,
   "id": "0a5343e2",
   "metadata": {},
   "outputs": [],
   "source": []
  },
  {
   "cell_type": "code",
   "execution_count": null,
   "id": "b026cd38",
   "metadata": {},
   "outputs": [],
   "source": []
  },
  {
   "cell_type": "code",
   "execution_count": null,
   "id": "623e295b",
   "metadata": {},
   "outputs": [],
   "source": []
  },
  {
   "cell_type": "code",
   "execution_count": null,
   "id": "9bc3fe1d",
   "metadata": {},
   "outputs": [],
   "source": []
  },
  {
   "cell_type": "code",
   "execution_count": null,
   "id": "77a6d6c1",
   "metadata": {},
   "outputs": [],
   "source": []
  }
 ],
 "metadata": {
  "kernelspec": {
   "display_name": "Python 3 (ipykernel)",
   "language": "python",
   "name": "python3"
  },
  "language_info": {
   "codemirror_mode": {
    "name": "ipython",
    "version": 3
   },
   "file_extension": ".py",
   "mimetype": "text/x-python",
   "name": "python",
   "nbconvert_exporter": "python",
   "pygments_lexer": "ipython3",
   "version": "3.9.12"
  }
 },
 "nbformat": 4,
 "nbformat_minor": 5
}
