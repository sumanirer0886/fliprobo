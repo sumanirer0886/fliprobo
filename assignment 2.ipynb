{
 "cells": [
  {
   "cell_type": "code",
   "execution_count": null,
   "id": "4d039be7",
   "metadata": {},
   "outputs": [],
   "source": [
    "#Q1: Write a python program to scrape data for “Data Analyst” Job position in “Bangalore” location. You have to scrape the job-title, job-location, company_name, experience_required. You have to scrape first 10 jobs data.This task will be done in following steps:\n",
    "       # 1. First get the webpage https://www.naukri.com/\n",
    "      #  2. Enter “Data Analyst” in “Skill, Designations, Companies” field and enter “Bangalore” in “enter the location” field.\n",
    "       # 3. Then click the searchbutton.\n",
    "       # 4. Then scrape the data for the first 10 jobs results you get.\n",
    "       # 5. Finally create a dataframe of the scraped data.\n",
    "#Note: All of the above steps have to be done in code. No step is to be done manually"
   ]
  },
  {
   "cell_type": "code",
   "execution_count": 2,
   "id": "cc8e9fcf",
   "metadata": {},
   "outputs": [
    {
     "name": "stdout",
     "output_type": "stream",
     "text": [
      "Requirement already satisfied: selenium in c:\\users\\lenovo\\anaconda3\\lib\\site-packages (4.7.2)\n",
      "Requirement already satisfied: certifi>=2021.10.8 in c:\\users\\lenovo\\anaconda3\\lib\\site-packages (from selenium) (2021.10.8)\n",
      "Requirement already satisfied: trio-websocket~=0.9 in c:\\users\\lenovo\\anaconda3\\lib\\site-packages (from selenium) (0.9.2)\n",
      "Requirement already satisfied: urllib3[socks]~=1.26 in c:\\users\\lenovo\\anaconda3\\lib\\site-packages (from selenium) (1.26.9)\n",
      "Requirement already satisfied: trio~=0.17 in c:\\users\\lenovo\\anaconda3\\lib\\site-packages (from selenium) (0.22.0)\n",
      "Requirement already satisfied: attrs>=19.2.0 in c:\\users\\lenovo\\anaconda3\\lib\\site-packages (from trio~=0.17->selenium) (21.4.0)\n",
      "Requirement already satisfied: cffi>=1.14 in c:\\users\\lenovo\\anaconda3\\lib\\site-packages (from trio~=0.17->selenium) (1.15.0)\n",
      "Requirement already satisfied: outcome in c:\\users\\lenovo\\anaconda3\\lib\\site-packages (from trio~=0.17->selenium) (1.2.0)\n",
      "Requirement already satisfied: sniffio in c:\\users\\lenovo\\anaconda3\\lib\\site-packages (from trio~=0.17->selenium) (1.2.0)\n",
      "Requirement already satisfied: exceptiongroup>=1.0.0rc9 in c:\\users\\lenovo\\anaconda3\\lib\\site-packages (from trio~=0.17->selenium) (1.1.0)\n",
      "Requirement already satisfied: idna in c:\\users\\lenovo\\anaconda3\\lib\\site-packages (from trio~=0.17->selenium) (3.3)\n",
      "Requirement already satisfied: async-generator>=1.9 in c:\\users\\lenovo\\anaconda3\\lib\\site-packages (from trio~=0.17->selenium) (1.10)\n",
      "Requirement already satisfied: sortedcontainers in c:\\users\\lenovo\\anaconda3\\lib\\site-packages (from trio~=0.17->selenium) (2.4.0)\n",
      "Requirement already satisfied: pycparser in c:\\users\\lenovo\\anaconda3\\lib\\site-packages (from cffi>=1.14->trio~=0.17->selenium) (2.21)\n",
      "Requirement already satisfied: wsproto>=0.14 in c:\\users\\lenovo\\anaconda3\\lib\\site-packages (from trio-websocket~=0.9->selenium) (1.2.0)\n",
      "Requirement already satisfied: PySocks!=1.5.7,<2.0,>=1.5.6 in c:\\users\\lenovo\\anaconda3\\lib\\site-packages (from urllib3[socks]~=1.26->selenium) (1.7.1)\n",
      "Requirement already satisfied: h11<1,>=0.9.0 in c:\\users\\lenovo\\anaconda3\\lib\\site-packages (from wsproto>=0.14->trio-websocket~=0.9->selenium) (0.14.0)\n"
     ]
    }
   ],
   "source": [
    "!pip install selenium"
   ]
  },
  {
   "cell_type": "code",
   "execution_count": 3,
   "id": "ed93e963",
   "metadata": {},
   "outputs": [],
   "source": [
    "import selenium\n",
    "import pandas as pd\n",
    "from selenium import webdriver\n",
    "import warnings\n",
    "warnings.filterwarnings('ignore')\n",
    "from selenium.common.exceptions import StaleElementReferenceException, NoSuchElementException\n",
    "from selenium.webdriver.common.by import By\n",
    "import time"
   ]
  },
  {
   "cell_type": "code",
   "execution_count": 4,
   "id": "74b5029b",
   "metadata": {},
   "outputs": [],
   "source": [
    "driver=webdriver.Chrome(r\"C:\\Users\\LENOVO\\Desktop\\Data\\chromedriver.exe\")"
   ]
  },
  {
   "cell_type": "code",
   "execution_count": null,
   "id": "6c6afff7",
   "metadata": {},
   "outputs": [],
   "source": [
    "driver.get(\"https://www.naukri.com/\")"
   ]
  },
  {
   "cell_type": "code",
   "execution_count": null,
   "id": "93e7fdde",
   "metadata": {},
   "outputs": [],
   "source": [
    "dg=driver.find_element(By.XPATH,\"/html/body/div[1]/div[6]/div/div/div[1]/div/div/div/input\")\n"
   ]
  },
  {
   "cell_type": "code",
   "execution_count": null,
   "id": "f1154efe",
   "metadata": {},
   "outputs": [],
   "source": [
    "dg.send_keys('data analyst')"
   ]
  },
  {
   "cell_type": "code",
   "execution_count": null,
   "id": "27601dd6",
   "metadata": {},
   "outputs": [],
   "source": [
    "loc=driver.find_element(By.XPATH,\"/html/body/div[1]/div[6]/div/div/div[5]/div/div/div/input\")"
   ]
  },
  {
   "cell_type": "code",
   "execution_count": null,
   "id": "4badec04",
   "metadata": {},
   "outputs": [],
   "source": [
    "loc.send_keys('bangalore')"
   ]
  },
  {
   "cell_type": "code",
   "execution_count": null,
   "id": "9c440925",
   "metadata": {},
   "outputs": [],
   "source": [
    "search=driver.find_element(By.XPATH,\"/html/body/div[1]/div[6]/div/div/div[6]\")"
   ]
  },
  {
   "cell_type": "code",
   "execution_count": null,
   "id": "bcb28e98",
   "metadata": {},
   "outputs": [],
   "source": [
    "search.click()"
   ]
  },
  {
   "cell_type": "code",
   "execution_count": null,
   "id": "a019eace",
   "metadata": {},
   "outputs": [],
   "source": [
    "jobtitle=[]\n",
    "jt=driver.find_elements(By.XPATH,'//a[@class=\"title ellipsis\"]')\n",
    "for i in jt[0:10]:\n",
    "    jobtitle.append(i.text)"
   ]
  },
  {
   "cell_type": "code",
   "execution_count": null,
   "id": "3f40b900",
   "metadata": {},
   "outputs": [],
   "source": [
    "jobtitle"
   ]
  },
  {
   "cell_type": "code",
   "execution_count": null,
   "id": "e078a4f3",
   "metadata": {},
   "outputs": [],
   "source": [
    "len(jobtitle)"
   ]
  },
  {
   "cell_type": "code",
   "execution_count": null,
   "id": "d77a1e96",
   "metadata": {},
   "outputs": [],
   "source": [
    "jobloc=[]\n",
    "jl=driver.find_elements(By.XPATH,'//span[@class=\"ellipsis fleft locWdth\"]')\n",
    "for i in jl[0:10]:\n",
    "    jobloc.append(i.text)"
   ]
  },
  {
   "cell_type": "code",
   "execution_count": null,
   "id": "bb9f9043",
   "metadata": {},
   "outputs": [],
   "source": [
    "jobloc"
   ]
  },
  {
   "cell_type": "code",
   "execution_count": null,
   "id": "425c312b",
   "metadata": {},
   "outputs": [],
   "source": [
    "jobexp=[]\n",
    "je=driver.find_elements(By.XPATH,'//span[@class=\"ellipsis fleft expwdth\"]')\n",
    "for i in je[0:10]:\n",
    "    jobexp.append(i.text)"
   ]
  },
  {
   "cell_type": "code",
   "execution_count": null,
   "id": "a3641f65",
   "metadata": {},
   "outputs": [],
   "source": [
    "jobexp"
   ]
  },
  {
   "cell_type": "code",
   "execution_count": null,
   "id": "9a0ec1e6",
   "metadata": {},
   "outputs": [],
   "source": [
    "jobcom=[]\n",
    "jc=driver.find_elements(By.XPATH,'//a[@class=\"subTitle ellipsis fleft\"]')\n",
    "for i in jc[0:10]:\n",
    "    jobcom.append(i.text)"
   ]
  },
  {
   "cell_type": "code",
   "execution_count": null,
   "id": "e135f3f0",
   "metadata": {},
   "outputs": [],
   "source": [
    "jobcom"
   ]
  },
  {
   "cell_type": "code",
   "execution_count": null,
   "id": "75c21cb0",
   "metadata": {},
   "outputs": [],
   "source": [
    "gg=pd.DataFrame({'location':jobloc,'experence':jobexp,'title':jobtitle,'company name':jobcom})"
   ]
  },
  {
   "cell_type": "code",
   "execution_count": null,
   "id": "7afc6fc8",
   "metadata": {},
   "outputs": [],
   "source": [
    "gg"
   ]
  },
  {
   "cell_type": "code",
   "execution_count": null,
   "id": "0a9b3d72",
   "metadata": {},
   "outputs": [],
   "source": []
  },
  {
   "cell_type": "code",
   "execution_count": null,
   "id": "1c007180",
   "metadata": {},
   "outputs": [],
   "source": []
  },
  {
   "cell_type": "code",
   "execution_count": null,
   "id": "c5204f1d",
   "metadata": {},
   "outputs": [],
   "source": []
  },
  {
   "cell_type": "code",
   "execution_count": null,
   "id": "3369abaa",
   "metadata": {},
   "outputs": [],
   "source": [
    "#Q2: Write a python program to scrape data for “Data Scientist” Job position in “Bangalore” location. You have to scrape the job-title, job-location, company_name, experience_required. You have to scrape first 10 jobs data.This task will be done in following steps:\n",
    "       # 1. First get the webpage https://www.naukri.com/\n",
    "      #  2. Enter “Data Scientist” in “Skill, Designations, Companies” field and enter “Bangalore” in “enter the location” field.\n",
    "       # 3. Then click the searchbutton.\n",
    "       # 4. Then scrape the data for the first 10 jobs results you get.\n",
    "       # 5. Finally create a dataframe of the scraped data.\n",
    "#Note: All of the above steps have to be done in code. No step is to be done manually"
   ]
  },
  {
   "cell_type": "code",
   "execution_count": null,
   "id": "0914da9f",
   "metadata": {},
   "outputs": [],
   "source": [
    "driver=webdriver.Chrome(r\"C:\\Users\\LENOVO\\Desktop\\Data\\chromedriver.exe\")"
   ]
  },
  {
   "cell_type": "code",
   "execution_count": null,
   "id": "2cfb9da6",
   "metadata": {},
   "outputs": [],
   "source": [
    "driver.get(\"https://www.naukri.com/\")"
   ]
  },
  {
   "cell_type": "code",
   "execution_count": null,
   "id": "a7348a93",
   "metadata": {},
   "outputs": [],
   "source": [
    "dg=driver.find_element(By.XPATH,\"/html/body/div[1]/div[6]/div/div/div[1]/div/div/div/input\")"
   ]
  },
  {
   "cell_type": "code",
   "execution_count": null,
   "id": "67a51c65",
   "metadata": {},
   "outputs": [],
   "source": [
    "dg.send_keys('Data Scientist')"
   ]
  },
  {
   "cell_type": "code",
   "execution_count": null,
   "id": "c91f5627",
   "metadata": {},
   "outputs": [],
   "source": [
    "loc=driver.find_element(By.XPATH,\"/html/body/div[1]/div[6]/div/div/div[5]/div/div/div/input\")"
   ]
  },
  {
   "cell_type": "code",
   "execution_count": null,
   "id": "fa953d3a",
   "metadata": {},
   "outputs": [],
   "source": [
    "loc.send_keys('bangalore')"
   ]
  },
  {
   "cell_type": "code",
   "execution_count": null,
   "id": "076039df",
   "metadata": {},
   "outputs": [],
   "source": [
    "search=driver.find_element(By.XPATH,\"/html/body/div[1]/div[6]/div/div/div[6]\")"
   ]
  },
  {
   "cell_type": "code",
   "execution_count": null,
   "id": "52bc94b0",
   "metadata": {},
   "outputs": [],
   "source": [
    "search.click()"
   ]
  },
  {
   "cell_type": "code",
   "execution_count": null,
   "id": "7c158448",
   "metadata": {},
   "outputs": [],
   "source": [
    "jobtitle=[]\n",
    "jt=driver.find_elements(By.XPATH,'//a[@class=\"title ellipsis\"]')\n",
    "for i in jt[0:10]:\n",
    "    jobtitle.append(i.text)"
   ]
  },
  {
   "cell_type": "code",
   "execution_count": null,
   "id": "fb7d0584",
   "metadata": {},
   "outputs": [],
   "source": [
    "jobtitle"
   ]
  },
  {
   "cell_type": "code",
   "execution_count": null,
   "id": "f3b87343",
   "metadata": {},
   "outputs": [],
   "source": [
    "jobloc=[]\n",
    "jl=driver.find_elements(By.XPATH,'//span[@class=\"ellipsis fleft locWdth\"]')\n",
    "for i in jl[0:10]:\n",
    "    jobloc.append(i.text)"
   ]
  },
  {
   "cell_type": "code",
   "execution_count": null,
   "id": "b768708c",
   "metadata": {},
   "outputs": [],
   "source": [
    "jobexp=[]\n",
    "je=driver.find_elements(By.XPATH,'//span[@class=\"ellipsis fleft expwdth\"]')\n",
    "for i in je[0:10]:\n",
    "    jobexp.append(i.text)"
   ]
  },
  {
   "cell_type": "code",
   "execution_count": null,
   "id": "4012582e",
   "metadata": {},
   "outputs": [],
   "source": [
    "jobcom=[]\n",
    "jc=driver.find_elements(By.XPATH,'//a[@class=\"subTitle ellipsis fleft\"]')\n",
    "for i in jc[0:10]:\n",
    "    jobcom.append(i.text)"
   ]
  },
  {
   "cell_type": "code",
   "execution_count": null,
   "id": "5dcab013",
   "metadata": {},
   "outputs": [],
   "source": [
    "gg=pd.DataFrame({'location':jobloc,'experence':jobexp,'title':jobtitle,'company name':jobcom})"
   ]
  },
  {
   "cell_type": "code",
   "execution_count": null,
   "id": "1bf160f0",
   "metadata": {},
   "outputs": [],
   "source": [
    "gg"
   ]
  },
  {
   "cell_type": "code",
   "execution_count": null,
   "id": "607bbcc1",
   "metadata": {},
   "outputs": [],
   "source": []
  },
  {
   "cell_type": "code",
   "execution_count": null,
   "id": "3e538676",
   "metadata": {},
   "outputs": [],
   "source": []
  },
  {
   "cell_type": "code",
   "execution_count": null,
   "id": "b26af8fe",
   "metadata": {},
   "outputs": [],
   "source": []
  },
  {
   "cell_type": "code",
   "execution_count": null,
   "id": "8607df38",
   "metadata": {},
   "outputs": [],
   "source": [
    "#Q3: In this question you have to scrape data using the filters available on the webpage as shown below:\n",
    "#You have to use the location ad salary filter.\n",
    "#You have to scrape data for “Data Scientist” designation for first 10 job results. \n",
    "#You have to scrape the job-title, job-location, company name, experience required.\n",
    "#The location filter to be used is “Delhi/NCR”. The salary filter to be used is “3-6” lakhs\n",
    "#The task will be done as shown in the below steps:\n",
    " #   1. first get thewebpage https://www.naukri.com/\n",
    "  #  2. Enter “Data Scientist” in “Skill, Designations, and Companies” field.\n",
    "   # 3. Then click the searchbutton.\n",
    "    #4. Then apply the location filter and salary filter by checking the respective boxes\n",
    "    #5. Then scrape the data for the first 10 jobs results youget.\n",
    "    #6. Finally create a dataframe of the scraped data.\n",
    "#Note: All of the above steps have to be done in code. No step is to be done manually.\n"
   ]
  },
  {
   "cell_type": "code",
   "execution_count": null,
   "id": "e6e7e1da",
   "metadata": {},
   "outputs": [],
   "source": [
    "driver=webdriver.Chrome(r\"C:\\Users\\LENOVO\\Desktop\\Data\\chromedriver.exe\")"
   ]
  },
  {
   "cell_type": "code",
   "execution_count": null,
   "id": "aef22e4f",
   "metadata": {},
   "outputs": [],
   "source": [
    "driver.get(\"https://www.naukri.com/\")"
   ]
  },
  {
   "cell_type": "code",
   "execution_count": null,
   "id": "5488b5ba",
   "metadata": {},
   "outputs": [],
   "source": [
    "dg=driver.find_element(By.XPATH,\"/html/body/div[1]/div[6]/div/div/div[1]/div/div/div/input\")\n"
   ]
  },
  {
   "cell_type": "code",
   "execution_count": null,
   "id": "019451b0",
   "metadata": {},
   "outputs": [],
   "source": [
    "dg.send_keys('data scientist')"
   ]
  },
  {
   "cell_type": "code",
   "execution_count": null,
   "id": "4197a04c",
   "metadata": {},
   "outputs": [],
   "source": [
    "search=driver.find_element(By.XPATH,\"/html/body/div[1]/div[6]/div/div/div[6]\")"
   ]
  },
  {
   "cell_type": "code",
   "execution_count": null,
   "id": "846ef2db",
   "metadata": {},
   "outputs": [],
   "source": [
    "search.click()"
   ]
  },
  {
   "cell_type": "code",
   "execution_count": null,
   "id": "3304bc24",
   "metadata": {},
   "outputs": [],
   "source": [
    "loc=driver.find_element(By.XPATH,\"/html/body/div[1]/div[4]/div/div/section[1]/div[2]/div[4]/div[2]/div[1]/label/p/span[1]\")\n",
    "loc.click()"
   ]
  },
  {
   "cell_type": "code",
   "execution_count": null,
   "id": "9bf503a4",
   "metadata": {},
   "outputs": [],
   "source": [
    "sal=driver.find_element(By.XPATH,\"/html/body/div[1]/div[4]/div/div/section[1]/div[2]/div[6]/div[2]/div[2]/label/p/span[1]\")\n",
    "sal.click()"
   ]
  },
  {
   "cell_type": "code",
   "execution_count": null,
   "id": "4b806b78",
   "metadata": {},
   "outputs": [],
   "source": [
    "jobtitle=[]\n",
    "jt=driver.find_elements(By.XPATH,'//a[@class=\"title ellipsis\"]')\n",
    "for i in jt[0:10]:\n",
    "    jobtitle.append(i.text)"
   ]
  },
  {
   "cell_type": "code",
   "execution_count": null,
   "id": "96948997",
   "metadata": {},
   "outputs": [],
   "source": [
    "jobloc=[]\n",
    "jl=driver.find_elements(By.XPATH,'//span[@class=\"ellipsis fleft locWdth\"]')\n",
    "for i in jl[0:10]:\n",
    "    jobloc.append(i.text)"
   ]
  },
  {
   "cell_type": "code",
   "execution_count": null,
   "id": "7777ea39",
   "metadata": {},
   "outputs": [],
   "source": [
    "jobexp=[]\n",
    "je=driver.find_elements(By.XPATH,'//span[@class=\"ellipsis fleft expwdth\"]')\n",
    "for i in je[0:10]:\n",
    "    jobexp.append(i.text)"
   ]
  },
  {
   "cell_type": "code",
   "execution_count": null,
   "id": "f0ba822e",
   "metadata": {},
   "outputs": [],
   "source": [
    "jobcom=[]\n",
    "jc=driver.find_elements(By.XPATH,'//a[@class=\"subTitle ellipsis fleft\"]')\n",
    "for i in jc[0:10]:\n",
    "    jobcom.append(i.text)"
   ]
  },
  {
   "cell_type": "code",
   "execution_count": null,
   "id": "cf6a1f40",
   "metadata": {},
   "outputs": [],
   "source": [
    "gg=pd.DataFrame({'location':jobloc,'experence':jobexp,'title':jobtitle,'company name':jobcom})"
   ]
  },
  {
   "cell_type": "code",
   "execution_count": null,
   "id": "3168169d",
   "metadata": {},
   "outputs": [],
   "source": [
    "gg"
   ]
  },
  {
   "cell_type": "code",
   "execution_count": null,
   "id": "caa8f59f",
   "metadata": {},
   "outputs": [],
   "source": []
  },
  {
   "cell_type": "code",
   "execution_count": null,
   "id": "1c01dc27",
   "metadata": {},
   "outputs": [],
   "source": []
  },
  {
   "cell_type": "code",
   "execution_count": null,
   "id": "0fcb8ffc",
   "metadata": {},
   "outputs": [],
   "source": []
  },
  {
   "cell_type": "code",
   "execution_count": null,
   "id": "ed746935",
   "metadata": {},
   "outputs": [],
   "source": [
    "#Q4: Scrape data of first 100 sunglasses listings on flipkart.com. You have to scrape four attributes:\n",
    "#        1. Brand\n",
    " #       2. ProductDescription\n",
    "  #      3. Price\n",
    "#To scrape the data you have to go through following steps:\n",
    "#        1. Go to Flipkart webpage by url :https://www.flipkart.com/\n",
    " #       2. Enter “sunglasses” in the search field where “search for products, brands and more” is written and \n",
    "  #      click the search icon\n",
    "   #     3. After that you will reach to the page having a lot of sunglasses. From this page you can scrap the required data asusual.\n",
    "    #    4. After scraping data from the first page, go to the “Next” Button at the bottom other page , then click on it.\n",
    "      #  5. Now scrape data from this page asusual\n",
    "       # 6. Repeat this until you get data for 100sunglasses.\n",
    "#Note: That all of the above steps have to be done by coding only and not manually.\n"
   ]
  },
  {
   "cell_type": "code",
   "execution_count": null,
   "id": "a3f7fc17",
   "metadata": {},
   "outputs": [],
   "source": [
    "driver=webdriver.Chrome(r\"C:\\Users\\LENOVO\\Desktop\\Data\\chromedriver.exe\")"
   ]
  },
  {
   "cell_type": "code",
   "execution_count": null,
   "id": "c531f942",
   "metadata": {},
   "outputs": [],
   "source": [
    "driver.get(\"https://www.flipkart.com/\")"
   ]
  },
  {
   "cell_type": "code",
   "execution_count": null,
   "id": "e683943a",
   "metadata": {},
   "outputs": [],
   "source": [
    "dg=driver.find_element(By.XPATH,\"/html/body/div[1]/div/div[1]/div[1]/div[2]/div[2]/form/div/div/input\")"
   ]
  },
  {
   "cell_type": "code",
   "execution_count": null,
   "id": "ea282f83",
   "metadata": {},
   "outputs": [],
   "source": [
    "dg.send_keys('sunglasses')"
   ]
  },
  {
   "cell_type": "code",
   "execution_count": null,
   "id": "6d496ded",
   "metadata": {},
   "outputs": [],
   "source": [
    "# to close login box after opening of flipkart website\n",
    "\n",
    "time.sleep(5)\n",
    "closex=driver.find_element(By.XPATH,\"/html/body/div[2]/div/div/button\")\n",
    "closex.click()"
   ]
  },
  {
   "cell_type": "code",
   "execution_count": null,
   "id": "e73aaee8",
   "metadata": {},
   "outputs": [],
   "source": [
    "search=driver.find_element(By.XPATH,\"/html/body/div[1]/div/div[1]/div[1]/div[2]/div[2]/form/div/button\")"
   ]
  },
  {
   "cell_type": "code",
   "execution_count": null,
   "id": "4f8a7972",
   "metadata": {},
   "outputs": [],
   "source": [
    "search.click()"
   ]
  },
  {
   "cell_type": "code",
   "execution_count": null,
   "id": "12151da1",
   "metadata": {},
   "outputs": [],
   "source": [
    "Btitle=[]\n",
    "Bt=driver.find_elements(By.XPATH,'//div[@class=\"_2WkVRV\"]')\n",
    "for i in Bt:\n",
    "    Btitle.append(i.text)\n",
    "    \n",
    "    \n",
    "price=[]\n",
    "pr=driver.find_elements(By.XPATH,'//div[@class=\"_30jeq3\"]') \n",
    "for i in pr:\n",
    "    price.append(i.text)\n",
    "    \n",
    "    \n",
    "pds=[]\n",
    "pd=driver.find_elements(By.XPATH,'//a[@class=\"IRpwTa\"]')\n",
    "for i in pd:\n",
    "    pds.append(i.text)"
   ]
  },
  {
   "cell_type": "code",
   "execution_count": null,
   "id": "ac2d4150",
   "metadata": {},
   "outputs": [],
   "source": [
    "len(Btitle)"
   ]
  },
  {
   "cell_type": "code",
   "execution_count": null,
   "id": "079979ca",
   "metadata": {},
   "outputs": [],
   "source": [
    "nex=driver.find_element(By.XPATH,\"/html/body/div[1]/div/div[3]/div[1]/div[2]/div[12]/div/div/nav/a[11]\")\n",
    "nex.click()"
   ]
  },
  {
   "cell_type": "code",
   "execution_count": null,
   "id": "1ed0ed3b",
   "metadata": {},
   "outputs": [],
   "source": [
    "Btitle1=[]\n",
    "Bt1=driver.find_elements(By.XPATH,'//div[@class=\"_2WkVRV\"]')\n",
    "for i in Bt1:\n",
    "    Btitle1.append(i.text)\n",
    "    \n",
    "    \n",
    "    \n",
    "price1=[]\n",
    "pr1=driver.find_elements(By.XPATH,'//div[@class=\"_30jeq3\"]')\n",
    "for i in pr1:\n",
    "    price1.append(i.text)\n",
    "    \n",
    "    \n",
    "pds1=[]\n",
    "pd1=driver.find_elements(By.XPATH,'//a[@class=\"IRpwTa\"]')\n",
    "for i in pd1:\n",
    "    pds1.append(i.text)"
   ]
  },
  {
   "cell_type": "code",
   "execution_count": null,
   "id": "9631b6b1",
   "metadata": {},
   "outputs": [],
   "source": [
    "nex1=driver.find_element(By.XPATH,\"/html/body/div[1]/div/div[3]/div[1]/div[2]/div[12]/div/div/nav/a[11]\")\n",
    "nex1.click()"
   ]
  },
  {
   "cell_type": "code",
   "execution_count": null,
   "id": "4298e06d",
   "metadata": {},
   "outputs": [],
   "source": [
    "Btitle2=[]\n",
    "Bt2=driver.find_elements(By.XPATH,'//div[@class=\"_2WkVRV\"]')\n",
    "for i in Bt2[0:20]:\n",
    "    Btitle2.append(i.text)\n",
    "    \n",
    "    \n",
    "    \n",
    "price2=[]\n",
    "pr2=driver.find_elements(By.XPATH,'//div[@class=\"_30jeq3\"]')\n",
    "for i in pr2[0:20]:\n",
    "    price2.append(i.text)\n",
    "    \n",
    "    \n",
    "pds2=[]\n",
    "pd2=driver.find_elements(By.XPATH,'//a[@class=\"IRpwTa\"]')\n",
    "for i in pd2[0:20]:\n",
    "    pds2.append(i.text)"
   ]
  },
  {
   "cell_type": "code",
   "execution_count": null,
   "id": "af5399c5",
   "metadata": {},
   "outputs": [],
   "source": [
    "brand=Btitle+Btitle1+Btitle2\n",
    "len(brand)"
   ]
  },
  {
   "cell_type": "code",
   "execution_count": null,
   "id": "f5ffd80c",
   "metadata": {},
   "outputs": [],
   "source": [
    "fprice=price+price1+price2\n",
    "len(fprice)"
   ]
  },
  {
   "cell_type": "code",
   "execution_count": null,
   "id": "d7393b2e",
   "metadata": {},
   "outputs": [],
   "source": [
    "productdes=pds+pds1+pds2\n",
    "len(productdes)"
   ]
  },
  {
   "cell_type": "code",
   "execution_count": null,
   "id": "d8205ce4",
   "metadata": {},
   "outputs": [],
   "source": [
    "import pandas as pd \n",
    "table=pd.DataFrame({'Brand':brand,'Price':fprice})"
   ]
  },
  {
   "cell_type": "code",
   "execution_count": null,
   "id": "ae60a29c",
   "metadata": {},
   "outputs": [],
   "source": [
    "table"
   ]
  },
  {
   "cell_type": "code",
   "execution_count": null,
   "id": "7d8c03c8",
   "metadata": {},
   "outputs": [],
   "source": [
    "#Q5: Scrape 100 reviews data from flipkart.com for iphone11 phone. You have to go the link: https://www.flipkart.com/apple-iphone-11-black-64-gb/product\u0002reviews/itm4e5041ba101fd?pid=MOBFWQ6BXGJCEYNY&lid=LSTMOBFWQ6BXGJCEYNYZXSHRJ&market place=FLIPKARAs shown in the above page you have to scrape the tick marked attributes. These are:\n",
    "        #1. Rating\n",
    "        #2. Review summary\n",
    "        #3. Full review\n",
    "        #4. You have to scrape this data for first 100reviews."
   ]
  },
  {
   "cell_type": "code",
   "execution_count": null,
   "id": "764fa514",
   "metadata": {},
   "outputs": [],
   "source": [
    "driver=webdriver.Chrome(r\"C:\\Users\\LENOVO\\Desktop\\Data\\chromedriver.exe\")"
   ]
  },
  {
   "cell_type": "code",
   "execution_count": null,
   "id": "38ce8fc5",
   "metadata": {},
   "outputs": [],
   "source": [
    "driver.get(\"https://www.flipkart.com/apple-iphone-11-black-64-gb/product\")"
   ]
  },
  {
   "cell_type": "code",
   "execution_count": null,
   "id": "b5bbcdc0",
   "metadata": {},
   "outputs": [],
   "source": [
    "hm=driver.find_element(By.XPATH,\"/html/body/div[2]/div/a\")"
   ]
  },
  {
   "cell_type": "code",
   "execution_count": null,
   "id": "de1a318f",
   "metadata": {},
   "outputs": [],
   "source": [
    "hm.click()"
   ]
  },
  {
   "cell_type": "code",
   "execution_count": null,
   "id": "225d7e1f",
   "metadata": {},
   "outputs": [],
   "source": [
    "dg=driver.find_element(By.XPATH,\"/html/body/div[1]/div/div[1]/div[1]/div[2]/div[2]/form/div/div/input\")"
   ]
  },
  {
   "cell_type": "code",
   "execution_count": null,
   "id": "beeb03f3",
   "metadata": {},
   "outputs": [],
   "source": [
    "dg.send_keys('iphone11')"
   ]
  },
  {
   "cell_type": "code",
   "execution_count": null,
   "id": "e569894c",
   "metadata": {},
   "outputs": [],
   "source": [
    "search=driver.find_element(By.XPATH,\"/html/body/div[1]/div/div[1]/div[1]/div[2]/div[2]/form/div/button\")"
   ]
  },
  {
   "cell_type": "code",
   "execution_count": null,
   "id": "e6e0b86b",
   "metadata": {},
   "outputs": [],
   "source": [
    "search.click()"
   ]
  },
  {
   "cell_type": "code",
   "execution_count": null,
   "id": "75ff2839",
   "metadata": {},
   "outputs": [],
   "source": [
    "io=driver.find_element(By.XPATH,\"/html/body/div[1]/div/div[3]/div[1]/div[2]/div[2]/div/div/div/a/div[2]/div[1]/div[1]\")"
   ]
  },
  {
   "cell_type": "code",
   "execution_count": null,
   "id": "24abf86e",
   "metadata": {},
   "outputs": [],
   "source": [
    "io.click()"
   ]
  },
  {
   "cell_type": "code",
   "execution_count": null,
   "id": "40d40b87",
   "metadata": {},
   "outputs": [],
   "source": [
    "rat=[]\n",
    "r=driver.find_elements(By.XPATH,'//div[@class=\"_3LWZlK _1BLPMq\"]')\n",
    "for i in r:\n",
    "    rat.append(i.text)"
   ]
  },
  {
   "cell_type": "code",
   "execution_count": null,
   "id": "f515fa72",
   "metadata": {},
   "outputs": [],
   "source": [
    "rat"
   ]
  },
  {
   "cell_type": "code",
   "execution_count": null,
   "id": "ac84a059",
   "metadata": {},
   "outputs": [],
   "source": [
    "rv=[]\n",
    "v=driver.find_elements(By.XPATH,'//p[@class=\"_2-N8zT\"]')\n",
    "for i in v:\n",
    "    rv.append(i.text)"
   ]
  },
  {
   "cell_type": "code",
   "execution_count": null,
   "id": "4647f7ca",
   "metadata": {},
   "outputs": [],
   "source": [
    "rv"
   ]
  },
  {
   "cell_type": "code",
   "execution_count": null,
   "id": "45ad5963",
   "metadata": {},
   "outputs": [],
   "source": [
    "frv=[]\n",
    "fv=driver.find_elements(By.XPATH,'//div[@class=\"t-ZTKy\"]')\n",
    "for i in fv:\n",
    "    frv.append(i.text)"
   ]
  },
  {
   "cell_type": "code",
   "execution_count": null,
   "id": "7be21bdd",
   "metadata": {},
   "outputs": [],
   "source": [
    "frv"
   ]
  },
  {
   "cell_type": "code",
   "execution_count": null,
   "id": "ffbeed7d",
   "metadata": {},
   "outputs": [],
   "source": [
    "rat1=[]\n",
    "r1=driver.find_elements(By.XPATH,'//div[@class=\"_3LWZlK _1BLPMq\"]')\n",
    "for i in r1:\n",
    "    rat1.append(i.text)"
   ]
  },
  {
   "cell_type": "code",
   "execution_count": null,
   "id": "214f9da7",
   "metadata": {},
   "outputs": [],
   "source": [
    "rat1"
   ]
  },
  {
   "cell_type": "code",
   "execution_count": null,
   "id": "c504df5d",
   "metadata": {},
   "outputs": [],
   "source": [
    "rv1=[]\n",
    "v1=driver.find_elements(By.XPATH,'//p[@class=\"_2-N8zT\"]')\n",
    "for i in v1:\n",
    "    rv1.append(i.text)"
   ]
  },
  {
   "cell_type": "code",
   "execution_count": null,
   "id": "c344d35c",
   "metadata": {},
   "outputs": [],
   "source": [
    "rv1"
   ]
  },
  {
   "cell_type": "code",
   "execution_count": null,
   "id": "4e5de2a5",
   "metadata": {},
   "outputs": [],
   "source": [
    "frv1=[]\n",
    "fv1=driver.find_elements(By.XPATH,'//div[@class=\"t-ZTKy\"]')\n",
    "for i in fv1:\n",
    "    frv1.append(i.text)"
   ]
  },
  {
   "cell_type": "code",
   "execution_count": null,
   "id": "477dd9ee",
   "metadata": {},
   "outputs": [],
   "source": [
    "frv1"
   ]
  },
  {
   "cell_type": "code",
   "execution_count": null,
   "id": "66235ad3",
   "metadata": {},
   "outputs": [],
   "source": [
    "rat2=[]\n",
    "r2=driver.find_elements(By.XPATH,'//div[@class=\"_3LWZlK _1BLPMq\"]')\n",
    "for i in r2:\n",
    "    rat2.append(i.text)"
   ]
  },
  {
   "cell_type": "code",
   "execution_count": null,
   "id": "ea306030",
   "metadata": {},
   "outputs": [],
   "source": [
    "rat2"
   ]
  },
  {
   "cell_type": "code",
   "execution_count": null,
   "id": "d17440c0",
   "metadata": {},
   "outputs": [],
   "source": [
    "rv2=[]\n",
    "v2=driver.find_elements(By.XPATH,'//p[@class=\"_2-N8zT\"]')\n",
    "for i in v2:\n",
    "    rv2.append(i.text"
   ]
  },
  {
   "cell_type": "code",
   "execution_count": null,
   "id": "6db6a01b",
   "metadata": {},
   "outputs": [],
   "source": [
    "rv2"
   ]
  },
  {
   "cell_type": "code",
   "execution_count": null,
   "id": "fa448b23",
   "metadata": {},
   "outputs": [],
   "source": [
    "frv2=[]\n",
    "fv2=driver.find_elements(By.XPATH,'//div[@class=\"t-ZTKy\"]')\n",
    "for i in fv2:\n",
    "    frv2.append(i.text)"
   ]
  },
  {
   "cell_type": "code",
   "execution_count": null,
   "id": "7aa1bd99",
   "metadata": {},
   "outputs": [],
   "source": [
    "frv2"
   ]
  },
  {
   "cell_type": "code",
   "execution_count": null,
   "id": "b3a6e169",
   "metadata": {},
   "outputs": [],
   "source": [
    "ratt=rat+rat1+rat2"
   ]
  },
  {
   "cell_type": "code",
   "execution_count": null,
   "id": "f02a1bb3",
   "metadata": {},
   "outputs": [],
   "source": []
  },
  {
   "cell_type": "code",
   "execution_count": null,
   "id": "ccb75266",
   "metadata": {},
   "outputs": [],
   "source": [
    "table=pd.DataFrame({'Rating':ratt,'Review':rvv})"
   ]
  },
  {
   "cell_type": "code",
   "execution_count": null,
   "id": "646c7ea7",
   "metadata": {},
   "outputs": [],
   "source": [
    "table"
   ]
  },
  {
   "cell_type": "code",
   "execution_count": null,
   "id": "43a57185",
   "metadata": {},
   "outputs": [],
   "source": []
  },
  {
   "cell_type": "code",
   "execution_count": null,
   "id": "7f92f589",
   "metadata": {},
   "outputs": [],
   "source": []
  },
  {
   "cell_type": "code",
   "execution_count": null,
   "id": "3f717d1a",
   "metadata": {},
   "outputs": [],
   "source": []
  },
  {
   "cell_type": "code",
   "execution_count": null,
   "id": "ad478478",
   "metadata": {},
   "outputs": [],
   "source": [
    "#Q6: Scrape data for first 100 sneakers you find when you visit flipkart.com and search for “sneakers” in the search field.You have to scrape 3 attributes of each sneaker:\n",
    "        #1. Brand\n",
    "        #2. ProductDescription\n",
    "        #3. Price\n",
    "        #As shown in the below image, you have to scrape the above attributes"
   ]
  },
  {
   "cell_type": "code",
   "execution_count": null,
   "id": "0db63dce",
   "metadata": {},
   "outputs": [],
   "source": [
    "driver=webdriver.Chrome(r\"C:\\Users\\LENOVO\\Desktop\\Data\\chromedriver.exe\")"
   ]
  },
  {
   "cell_type": "code",
   "execution_count": null,
   "id": "db5bf268",
   "metadata": {},
   "outputs": [],
   "source": [
    "driver.get(\"https://www.flipkart.com/\")"
   ]
  },
  {
   "cell_type": "code",
   "execution_count": null,
   "id": "30d455eb",
   "metadata": {},
   "outputs": [],
   "source": [
    "dg=driver.find_element(By.XPATH,\"/html/body/div[1]/div/div[1]/div[1]/div[2]/div[2]/form/div/div/input\")"
   ]
  },
  {
   "cell_type": "code",
   "execution_count": null,
   "id": "f7457a7a",
   "metadata": {},
   "outputs": [],
   "source": [
    "dg.send_keys('sneakers')"
   ]
  },
  {
   "cell_type": "code",
   "execution_count": null,
   "id": "90168306",
   "metadata": {},
   "outputs": [],
   "source": [
    " #to close login box after opening of flipkart website\n",
    "\n",
    "time.sleep(5)\n",
    "closex=driver.find_element(By.XPATH,\"/html/body/div[2]/div/div/button\")\n",
    "closex.click()"
   ]
  },
  {
   "cell_type": "code",
   "execution_count": null,
   "id": "264aba6b",
   "metadata": {},
   "outputs": [],
   "source": [
    "search=driver.find_element(By.XPATH,\"/html/body/div[1]/div/div[1]/div[1]/div[2]/div[2]/form/div/button\")"
   ]
  },
  {
   "cell_type": "code",
   "execution_count": null,
   "id": "b3e256c9",
   "metadata": {},
   "outputs": [],
   "source": [
    "search.click()"
   ]
  },
  {
   "cell_type": "code",
   "execution_count": null,
   "id": "b7700699",
   "metadata": {},
   "outputs": [],
   "source": [
    "Btitle=[]\n",
    "Bt=driver.find_elements(By.XPATH,'//div[@class=\"_2WkVRV\"]')\n",
    "for i in Bt:\n",
    "    Btitle.append(i.text)\n",
    "    \n",
    "   \n",
    "    \n",
    "price=[]\n",
    "pr=driver.find_elements(By.XPATH,'//div[@class=\"_30jeq3\"]') \n",
    "for i in pr:\n",
    "    price.append(i.text)\n",
    "    \n",
    "    \n",
    "pds=[]\n",
    "pd=driver.find_elements(By.XPATH,'//a[@class=\"IRpwTa\"]')\n",
    "for i in pd:\n",
    "    pds.append(i.text)"
   ]
  },
  {
   "cell_type": "code",
   "execution_count": null,
   "id": "f5a04411",
   "metadata": {},
   "outputs": [],
   "source": [
    "len(Btitle)"
   ]
  },
  {
   "cell_type": "code",
   "execution_count": null,
   "id": "4f034fd7",
   "metadata": {},
   "outputs": [],
   "source": [
    "len(price)"
   ]
  },
  {
   "cell_type": "code",
   "execution_count": null,
   "id": "c8938c81",
   "metadata": {},
   "outputs": [],
   "source": [
    "len(pds)"
   ]
  },
  {
   "cell_type": "code",
   "execution_count": null,
   "id": "4a9b930c",
   "metadata": {},
   "outputs": [],
   "source": [
    "nex=driver.find_element(By.XPATH,\"/html/body/div[1]/div/div[3]/div[1]/div[2]/div[12]/div/div/nav/a[11]\")\n",
    "nex.click()"
   ]
  },
  {
   "cell_type": "code",
   "execution_count": null,
   "id": "78ae5e7b",
   "metadata": {},
   "outputs": [],
   "source": [
    "Btitle1=[]\n",
    "Bt1=driver.find_elements(By.XPATH,'//div[@class=\"_2WkVRV\"]')\n",
    "for i in Bt1:\n",
    "    Btitle1.append(i.text)\n",
    "    \n",
    "    \n",
    "    \n",
    "price1=[]\n",
    "pr1=driver.find_elements(By.XPATH,'//div[@class=\"_30jeq3\"]')\n",
    "for i in pr1:\n",
    "    price1.append(i.text)\n",
    "    \n",
    "    \n",
    "pds1=[]\n",
    "pd1=driver.find_elements(By.XPATH,'//a[@class=\"IRpwTa\"]')\n",
    "for i in pd1:\n",
    "    pds1.append(i.text)"
   ]
  },
  {
   "cell_type": "code",
   "execution_count": null,
   "id": "48f14db1",
   "metadata": {},
   "outputs": [],
   "source": [
    "len(Btitle1)"
   ]
  },
  {
   "cell_type": "code",
   "execution_count": null,
   "id": "16a7a268",
   "metadata": {},
   "outputs": [],
   "source": [
    "len(price1)"
   ]
  },
  {
   "cell_type": "code",
   "execution_count": null,
   "id": "af5698c3",
   "metadata": {},
   "outputs": [],
   "source": [
    "len(pds1)"
   ]
  },
  {
   "cell_type": "code",
   "execution_count": null,
   "id": "949c9bcd",
   "metadata": {},
   "outputs": [],
   "source": [
    "nex=driver.find_element(By.XPATH,\"/html/body/div[1]/div/div[3]/div[1]/div[2]/div[12]/div/div/nav/a[11]\")\n",
    "nex.click()"
   ]
  },
  {
   "cell_type": "code",
   "execution_count": null,
   "id": "e56c408c",
   "metadata": {},
   "outputs": [],
   "source": [
    "Btitle2=[]\n",
    "Bt2=driver.find_elements(By.XPATH,'//div[@class=\"_2WkVRV\"]')\n",
    "for i in Bt2[0:20]:\n",
    "    Btitle2.append(i.text)\n",
    "    \n",
    "    \n",
    "    \n",
    "price2=[]\n",
    "pr2=driver.find_elements(By.XPATH,'//div[@class=\"_30jeq3\"]')\n",
    "for i in pr2[0:20]:\n",
    "    price2.append(i.text)\n",
    "    \n",
    "    \n",
    "pds2=[]\n",
    "pd2=driver.find_elements(By.XPATH,'//a[@class=\"IRpwTa\"]')\n",
    "for i in pd2[0:20]:\n",
    "    pds2.append(i.text)"
   ]
  },
  {
   "cell_type": "code",
   "execution_count": null,
   "id": "55143cc6",
   "metadata": {},
   "outputs": [],
   "source": [
    "brand=Btitle+Btitle1+Btitle2\n",
    "len(brand)"
   ]
  },
  {
   "cell_type": "code",
   "execution_count": null,
   "id": "f3d6e53f",
   "metadata": {},
   "outputs": [],
   "source": [
    "fprice=price+price1+price2\n",
    "len(fprice)"
   ]
  },
  {
   "cell_type": "code",
   "execution_count": null,
   "id": "cce809e6",
   "metadata": {},
   "outputs": [],
   "source": [
    "productdes=pds+pds1+pds2\n",
    "len(productdes)"
   ]
  },
  {
   "cell_type": "code",
   "execution_count": null,
   "id": "26de27a1",
   "metadata": {},
   "outputs": [],
   "source": []
  },
  {
   "cell_type": "code",
   "execution_count": null,
   "id": "761e000d",
   "metadata": {},
   "outputs": [],
   "source": [
    "import pandas as pd \n",
    "table=pd.DataFrame({'Brand':brand,'Price':fprice})"
   ]
  },
  {
   "cell_type": "code",
   "execution_count": null,
   "id": "3ca28d10",
   "metadata": {},
   "outputs": [],
   "source": [
    "table"
   ]
  },
  {
   "cell_type": "code",
   "execution_count": null,
   "id": "cb8f15ef",
   "metadata": {},
   "outputs": [],
   "source": []
  },
  {
   "cell_type": "code",
   "execution_count": null,
   "id": "b8d12aa9",
   "metadata": {},
   "outputs": [],
   "source": []
  },
  {
   "cell_type": "code",
   "execution_count": null,
   "id": "15feef9e",
   "metadata": {},
   "outputs": [],
   "source": [
    "    #Q7: Go to webpage https://www.amazon.in/ Enter “Laptop” in the search field and then click the search icon. Then set CPU Type filter to “Intel Core i7” as shown in the below image:\n",
    "        #After setting the filters scrape first 10 laptops data. You have to scrape 3 attributes for each laptop:\n",
    "        #1. Title\n",
    "        #2. Ratings\n",
    "        #3. Price"
   ]
  },
  {
   "cell_type": "code",
   "execution_count": 5,
   "id": "07e8a0b2",
   "metadata": {},
   "outputs": [],
   "source": [
    "driver=webdriver.Chrome(r\"C:\\Users\\LENOVO\\Desktop\\Data\\chromedriver.exe\")"
   ]
  },
  {
   "cell_type": "code",
   "execution_count": 6,
   "id": "7d04ece4",
   "metadata": {},
   "outputs": [],
   "source": [
    "driver.get(\"https://www.amazon.in/\")"
   ]
  },
  {
   "cell_type": "code",
   "execution_count": 7,
   "id": "ccea5e2b",
   "metadata": {},
   "outputs": [],
   "source": [
    "dg=driver.find_element(By.XPATH,\"/html/body/div[1]/header/div/div[1]/div[2]/div/form/div[2]/div[1]/input\")"
   ]
  },
  {
   "cell_type": "code",
   "execution_count": null,
   "id": "de5cff3e",
   "metadata": {},
   "outputs": [],
   "source": [
    "dg.send_keys('laptop')"
   ]
  },
  {
   "cell_type": "code",
   "execution_count": 11,
   "id": "3fb6f26f",
   "metadata": {},
   "outputs": [],
   "source": [
    "search=driver.find_element(By.XPATH,\"/html/body/div[1]/header/div/div[1]/div[2]/div/form/div[3]\")"
   ]
  },
  {
   "cell_type": "code",
   "execution_count": 12,
   "id": "566f4576",
   "metadata": {},
   "outputs": [],
   "source": [
    "search.click()"
   ]
  },
  {
   "cell_type": "code",
   "execution_count": null,
   "id": "80ce1963",
   "metadata": {},
   "outputs": [],
   "source": [
    "cp=driver.find_element(By.XPATH,\"/html/body/div[1]/div[2]/div[1]/div[2]/div/div[3]/span/div[1]/div/div/div[6]/ul[2]/li[11]/span/a/span\")"
   ]
  },
  {
   "cell_type": "code",
   "execution_count": null,
   "id": "0fc2736e",
   "metadata": {},
   "outputs": [],
   "source": [
    "cp.click()"
   ]
  },
  {
   "cell_type": "code",
   "execution_count": null,
   "id": "f1b8aa74",
   "metadata": {},
   "outputs": [],
   "source": [
    "prize=[]\n",
    "p=driver.find_elements(By.XPATH,'//span[@class=\"a-price-whole\"]')\n",
    "for i in p[0:8]:\n",
    "    prize.append(i.text)"
   ]
  },
  {
   "cell_type": "code",
   "execution_count": null,
   "id": "6ee8d6d9",
   "metadata": {},
   "outputs": [],
   "source": [
    "prize"
   ]
  },
  {
   "cell_type": "code",
   "execution_count": null,
   "id": "1234b44d",
   "metadata": {},
   "outputs": [],
   "source": [
    "rat=[]\n",
    "r=driver.find_elements(By.XPATH,'//div[@class=\"a-row a-size-small\"]')\n",
    "for i in r[0:8]:\n",
    "    rat.append(i.text)"
   ]
  },
  {
   "cell_type": "code",
   "execution_count": null,
   "id": "eeb74802",
   "metadata": {},
   "outputs": [],
   "source": [
    "rat"
   ]
  },
  {
   "cell_type": "code",
   "execution_count": null,
   "id": "5cf082d2",
   "metadata": {},
   "outputs": [],
   "source": [
    "import pandas as pd\n",
    "table=pd.DataFrame({'Prize':prize,'Rating':rat})"
   ]
  },
  {
   "cell_type": "code",
   "execution_count": null,
   "id": "c6c72812",
   "metadata": {},
   "outputs": [],
   "source": [
    "table"
   ]
  }
 ],
 "metadata": {
  "kernelspec": {
   "display_name": "Python 3 (ipykernel)",
   "language": "python",
   "name": "python3"
  },
  "language_info": {
   "codemirror_mode": {
    "name": "ipython",
    "version": 3
   },
   "file_extension": ".py",
   "mimetype": "text/x-python",
   "name": "python",
   "nbconvert_exporter": "python",
   "pygments_lexer": "ipython3",
   "version": "3.9.12"
  }
 },
 "nbformat": 4,
 "nbformat_minor": 5
}
